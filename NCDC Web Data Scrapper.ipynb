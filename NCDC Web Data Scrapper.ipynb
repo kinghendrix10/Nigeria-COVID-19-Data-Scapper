{
 "cells": [
  {
   "cell_type": "code",
   "execution_count": 26,
   "metadata": {
    "ExecuteTime": {
     "end_time": "2020-06-14T00:43:25.617784Z",
     "start_time": "2020-06-14T00:43:25.614785Z"
    }
   },
   "outputs": [],
   "source": [
    "import time\n",
    "import requests\n",
    "import bs4\n",
    "import re\n",
    "import pandas as pd"
   ]
  },
  {
   "cell_type": "code",
   "execution_count": 27,
   "metadata": {
    "ExecuteTime": {
     "end_time": "2020-06-14T00:43:26.333359Z",
     "start_time": "2020-06-14T00:43:25.619782Z"
    }
   },
   "outputs": [],
   "source": [
    "# NCDC website for web scraping\n",
    "web_page = 'https://covid19.ncdc.gov.ng/'\n",
    "\n",
    "# make request for data from website\n",
    "res = requests.get(web_page)\n",
    "\n",
    "# store the retrieved content\n",
    "html_page = res.content\n",
    "\n",
    "# create a BeautifulSoup object\n",
    "soup = bs4.BeautifulSoup(html_page, \"html.parser\")\n",
    "\n",
    "# store scraped table contents in a variable\n",
    "table = soup.find_all(class_=\"pcoded-content\")"
   ]
  },
  {
   "cell_type": "code",
   "execution_count": 28,
   "metadata": {
    "ExecuteTime": {
     "end_time": "2020-06-14T00:43:26.343292Z",
     "start_time": "2020-06-14T00:43:26.335315Z"
    },
    "scrolled": true
   },
   "outputs": [],
   "source": [
    "# store contents from various div classes\n",
    "confirmed_states = soup.find(class_=\"card-title\")\n",
    "\n",
    "table_header = soup.find_all('thead')\n",
    "\n",
    "table_body = soup.find('tbody')"
   ]
  },
  {
   "cell_type": "code",
   "execution_count": 29,
   "metadata": {
    "ExecuteTime": {
     "end_time": "2020-06-14T00:43:26.618394Z",
     "start_time": "2020-06-14T00:43:26.345289Z"
    },
    "scrolled": false
   },
   "outputs": [],
   "source": [
    "#clean contents from div classes\n",
    "str_cells = str(table_header)\n",
    "cleantext = bs4.BeautifulSoup(str_cells, \"lxml\").get_text()\n",
    "\n",
    "list_rows = []\n",
    "for tr in table_body:\n",
    "    cells = table_body.find_all('td')\n",
    "    str_cells = str(cells)\n",
    "    clean = re.compile('<.*?>')\n",
    "    clean2 = (re.sub(clean, ' ', str_cells))\n",
    "    list_rows.append(clean2)"
   ]
  },
  {
   "cell_type": "code",
   "execution_count": 47,
   "metadata": {
    "ExecuteTime": {
     "end_time": "2020-06-14T00:52:58.290951Z",
     "start_time": "2020-06-14T00:52:58.279975Z"
    }
   },
   "outputs": [
    {
     "ename": "AttributeError",
     "evalue": "'list' object has no attribute 'strip'",
     "output_type": "error",
     "traceback": [
      "\u001b[1;31m---------------------------------------------------------------------------\u001b[0m",
      "\u001b[1;31mAttributeError\u001b[0m                            Traceback (most recent call last)",
      "\u001b[1;32m<ipython-input-47-47710a3c3b5d>\u001b[0m in \u001b[0;36m<module>\u001b[1;34m\u001b[0m\n\u001b[0;32m      1\u001b[0m \u001b[1;31m#store cleaned contents in dataframe\u001b[0m\u001b[1;33m\u001b[0m\u001b[1;33m\u001b[0m\u001b[1;33m\u001b[0m\u001b[0m\n\u001b[1;32m----> 2\u001b[1;33m \u001b[0mdf\u001b[0m \u001b[1;33m=\u001b[0m \u001b[0mpd\u001b[0m\u001b[1;33m.\u001b[0m\u001b[0mDataFrame\u001b[0m\u001b[1;33m(\u001b[0m\u001b[0mlist_rows\u001b[0m\u001b[1;33m.\u001b[0m\u001b[0mstrip\u001b[0m\u001b[1;33m(\u001b[0m\u001b[1;34m'['\u001b[0m\u001b[1;33m,\u001b[0m\u001b[1;34m']'\u001b[0m \u001b[1;33m)\u001b[0m\u001b[1;33m)\u001b[0m\u001b[1;33m\u001b[0m\u001b[1;33m\u001b[0m\u001b[0m\n\u001b[0m",
      "\u001b[1;31mAttributeError\u001b[0m: 'list' object has no attribute 'strip'"
     ]
    }
   ],
   "source": [
    "#store cleaned contents in dataframe\n",
    "df = pd.DataFrame(list_rows)"
   ]
  },
  {
   "cell_type": "code",
   "execution_count": 31,
   "metadata": {
    "ExecuteTime": {
     "end_time": "2020-06-14T00:43:26.789163Z",
     "start_time": "2020-06-14T00:43:26.625388Z"
    }
   },
   "outputs": [],
   "source": [
    "#isolate desired data row\n",
    "df = df.loc[:0, :]"
   ]
  },
  {
   "cell_type": "code",
   "execution_count": 32,
   "metadata": {
    "ExecuteTime": {
     "end_time": "2020-06-14T00:43:26.891525Z",
     "start_time": "2020-06-14T00:43:26.791179Z"
    }
   },
   "outputs": [],
   "source": [
    "#remove html tags\n",
    "df = df.replace(r'\\n', ' ', regex=True)\n",
    "df = df.replace(r'\\t', '', regex=True)\n",
    "df = df.replace(r'\\s\\s\\s', '', regex=True)"
   ]
  },
  {
   "cell_type": "code",
   "execution_count": 51,
   "metadata": {
    "ExecuteTime": {
     "end_time": "2020-06-14T00:54:45.656991Z",
     "start_time": "2020-06-14T00:54:45.636005Z"
    }
   },
   "outputs": [],
   "source": [
    "#split the contents into seperate columns and store in new dataframe\n",
    "df1 = df[0].str.split(',', expand=True)"
   ]
  },
  {
   "cell_type": "code",
   "execution_count": 65,
   "metadata": {
    "ExecuteTime": {
     "end_time": "2020-06-14T00:58:05.553381Z",
     "start_time": "2020-06-14T00:58:05.536389Z"
    }
   },
   "outputs": [
    {
     "data": {
      "text/html": [
       "<div>\n",
       "<style scoped>\n",
       "    .dataframe tbody tr th:only-of-type {\n",
       "        vertical-align: middle;\n",
       "    }\n",
       "\n",
       "    .dataframe tbody tr th {\n",
       "        vertical-align: top;\n",
       "    }\n",
       "\n",
       "    .dataframe thead th {\n",
       "        text-align: right;\n",
       "    }\n",
       "</style>\n",
       "<table border=\"1\" class=\"dataframe\">\n",
       "  <thead>\n",
       "    <tr style=\"text-align: right;\">\n",
       "      <th></th>\n",
       "      <th>0</th>\n",
       "      <th>1</th>\n",
       "      <th>2</th>\n",
       "      <th>3</th>\n",
       "      <th>4</th>\n",
       "      <th>5</th>\n",
       "      <th>6</th>\n",
       "      <th>7</th>\n",
       "      <th>8</th>\n",
       "      <th>9</th>\n",
       "      <th>...</th>\n",
       "      <th>175</th>\n",
       "      <th>176</th>\n",
       "      <th>177</th>\n",
       "      <th>178</th>\n",
       "      <th>179</th>\n",
       "      <th>180</th>\n",
       "      <th>181</th>\n",
       "      <th>182</th>\n",
       "      <th>183</th>\n",
       "      <th>184</th>\n",
       "    </tr>\n",
       "  </thead>\n",
       "  <tbody>\n",
       "    <tr>\n",
       "      <th>0</th>\n",
       "      <td>Lagos</td>\n",
       "      <td>7</td>\n",
       "      <td>035</td>\n",
       "      <td>5</td>\n",
       "      <td>816</td>\n",
       "      <td>1</td>\n",
       "      <td>137</td>\n",
       "      <td>82</td>\n",
       "      <td>FCT</td>\n",
       "      <td>1</td>\n",
       "      <td>...</td>\n",
       "      <td>Taraba</td>\n",
       "      <td>18</td>\n",
       "      <td>8</td>\n",
       "      <td>10</td>\n",
       "      <td>0</td>\n",
       "      <td>Kogi</td>\n",
       "      <td>3</td>\n",
       "      <td>3</td>\n",
       "      <td>0</td>\n",
       "      <td>0</td>\n",
       "    </tr>\n",
       "  </tbody>\n",
       "</table>\n",
       "<p>1 rows × 185 columns</p>\n",
       "</div>"
      ],
      "text/plain": [
       "         0    1      2    3      4    5      6       7      8    9    ...  \\\n",
       "0    Lagos      7  035      5  816      1  137      82    FCT      1  ...   \n",
       "\n",
       "        175     176    177     178    179     180    181    182    183    184  \n",
       "0  Taraba      18      8      10      0    Kogi      3      3      0      0    \n",
       "\n",
       "[1 rows x 185 columns]"
      ]
     },
     "execution_count": 65,
     "metadata": {},
     "output_type": "execute_result"
    }
   ],
   "source": [
    "df1"
   ]
  },
  {
   "cell_type": "code",
   "execution_count": 64,
   "metadata": {
    "ExecuteTime": {
     "end_time": "2020-06-14T00:58:02.406558Z",
     "start_time": "2020-06-14T00:58:02.401561Z"
    },
    "scrolled": true
   },
   "outputs": [],
   "source": [
    "#strip leading and trailing square brackets\n",
    "df1.loc[0, 0] = df1.loc[0, 0].strip('[')\n",
    "df1.loc[0, 184] = df1.loc[0, 184].strip(']')"
   ]
  },
  {
   "cell_type": "code",
   "execution_count": 66,
   "metadata": {
    "ExecuteTime": {
     "end_time": "2020-06-14T00:58:49.974286Z",
     "start_time": "2020-06-14T00:58:49.968289Z"
    }
   },
   "outputs": [],
   "source": [
    "#split contents into seperate dataframes\n",
    "df2 = df1[[0, 1, 2, 3, 4, 5, 6, 7]]\n",
    "df3 = df1[[8, 9, 10, 11, 12, 13]]\n",
    "df4 = df1[[14, 15, 16, 17, 18, 19]]"
   ]
  },
  {
   "cell_type": "code",
   "execution_count": 67,
   "metadata": {
    "ExecuteTime": {
     "end_time": "2020-06-14T00:58:51.611314Z",
     "start_time": "2020-06-14T00:58:51.598323Z"
    },
    "scrolled": true
   },
   "outputs": [
    {
     "name": "stderr",
     "output_type": "stream",
     "text": [
      "C:\\Users\\Huleji\\Anaconda3\\lib\\site-packages\\pandas\\core\\indexing.py:1048: SettingWithCopyWarning: \n",
      "A value is trying to be set on a copy of a slice from a DataFrame.\n",
      "Try using .loc[row_indexer,col_indexer] = value instead\n",
      "\n",
      "See the caveats in the documentation: https://pandas.pydata.org/pandas-docs/stable/user_guide/indexing.html#returning-a-view-versus-a-copy\n",
      "  self.obj[item_labels[indexer[info_axis]]] = value\n"
     ]
    }
   ],
   "source": [
    "#merge multiline columns data\n",
    "df2.loc[:, 1] = df2.loc[:, 1].astype(str) + df2.loc[:, 2].astype(str)\n",
    "df2.loc[:, 3] = df2.loc[:, 3].astype(str) + df2.loc[:, 4].astype(str)\n",
    "df2.loc[:, 5] = df2.loc[:, 5].astype(str) + df2.loc[:, 6].astype(str)\n",
    "df3.loc[:, 9] = df3.loc[:, 9].astype(str) + df3.loc[:, 10].astype(str)\n",
    "df4.loc[:, 15] = df4.loc[:, 15].astype(str) + df4.loc[:, 16].astype(str)"
   ]
  },
  {
   "cell_type": "code",
   "execution_count": 68,
   "metadata": {
    "ExecuteTime": {
     "end_time": "2020-06-14T00:58:55.125423Z",
     "start_time": "2020-06-14T00:58:55.118408Z"
    }
   },
   "outputs": [],
   "source": [
    "#drop duplicate columns after merger\n",
    "df2 = df2.drop(columns=2, axis=1)\n",
    "df2 = df2.drop(columns=4, axis=1)\n",
    "df2 = df2.drop(columns=6, axis=1)\n",
    "\n",
    "df3 = df3.drop(columns=10, axis=1)\n",
    "\n",
    "df4 = df4.drop(columns=16, axis=1)"
   ]
  },
  {
   "cell_type": "code",
   "execution_count": 69,
   "metadata": {
    "ExecuteTime": {
     "end_time": "2020-06-14T00:58:58.013461Z",
     "start_time": "2020-06-14T00:58:57.977480Z"
    }
   },
   "outputs": [],
   "source": [
    "#reset column headers for concatenation\n",
    "df3.columns = df2.columns\n",
    "df4.columns = df2.columns\n",
    "\n",
    "#merger dataframes as rows\n",
    "data_table = pd.concat([df2, df3, df4], axis=0, ignore_index=True)\n",
    "\n",
    "#split and remerge data as new rows\n",
    "for i in range(20, 184, 5):\n",
    "    table = df1[[i, 1 + i, 2 + i, 3 + i, 4 + i]]\n",
    "    table.columns = df2.columns\n",
    "    data_table = pd.concat([data_table, table], axis=0, ignore_index=True)"
   ]
  },
  {
   "cell_type": "code",
   "execution_count": 70,
   "metadata": {
    "ExecuteTime": {
     "end_time": "2020-06-14T00:58:59.843892Z",
     "start_time": "2020-06-14T00:58:59.840879Z"
    }
   },
   "outputs": [],
   "source": [
    "#rename column headers\n",
    "data_table.columns = [\n",
    "    'States Affected', 'No. of Cases (Lab Confirmed)',\n",
    "    'No. of Cases (on admission)', 'No. Discharged', 'No. of Deaths'\n",
    "]"
   ]
  },
  {
   "cell_type": "code",
   "execution_count": 71,
   "metadata": {
    "ExecuteTime": {
     "end_time": "2020-06-14T00:59:01.560615Z",
     "start_time": "2020-06-14T00:59:01.544641Z"
    },
    "scrolled": true
   },
   "outputs": [
    {
     "data": {
      "text/html": [
       "<div>\n",
       "<style scoped>\n",
       "    .dataframe tbody tr th:only-of-type {\n",
       "        vertical-align: middle;\n",
       "    }\n",
       "\n",
       "    .dataframe tbody tr th {\n",
       "        vertical-align: top;\n",
       "    }\n",
       "\n",
       "    .dataframe thead th {\n",
       "        text-align: right;\n",
       "    }\n",
       "</style>\n",
       "<table border=\"1\" class=\"dataframe\">\n",
       "  <thead>\n",
       "    <tr style=\"text-align: right;\">\n",
       "      <th></th>\n",
       "      <th>States Affected</th>\n",
       "      <th>No. of Cases (Lab Confirmed)</th>\n",
       "      <th>No. of Cases (on admission)</th>\n",
       "      <th>No. Discharged</th>\n",
       "      <th>No. of Deaths</th>\n",
       "    </tr>\n",
       "  </thead>\n",
       "  <tbody>\n",
       "    <tr>\n",
       "      <th>0</th>\n",
       "      <td>Lagos</td>\n",
       "      <td>7035</td>\n",
       "      <td>5816</td>\n",
       "      <td>1137</td>\n",
       "      <td>82</td>\n",
       "    </tr>\n",
       "    <tr>\n",
       "      <th>1</th>\n",
       "      <td>FCT</td>\n",
       "      <td>1212</td>\n",
       "      <td>826</td>\n",
       "      <td>360</td>\n",
       "      <td>26</td>\n",
       "    </tr>\n",
       "    <tr>\n",
       "      <th>2</th>\n",
       "      <td>Kano</td>\n",
       "      <td>1091</td>\n",
       "      <td>442</td>\n",
       "      <td>599</td>\n",
       "      <td>50</td>\n",
       "    </tr>\n",
       "    <tr>\n",
       "      <th>3</th>\n",
       "      <td>Ogun</td>\n",
       "      <td>553</td>\n",
       "      <td>308</td>\n",
       "      <td>231</td>\n",
       "      <td>14</td>\n",
       "    </tr>\n",
       "    <tr>\n",
       "      <th>4</th>\n",
       "      <td>Edo</td>\n",
       "      <td>544</td>\n",
       "      <td>386</td>\n",
       "      <td>133</td>\n",
       "      <td>25</td>\n",
       "    </tr>\n",
       "    <tr>\n",
       "      <th>5</th>\n",
       "      <td>Oyo</td>\n",
       "      <td>491</td>\n",
       "      <td>268</td>\n",
       "      <td>216</td>\n",
       "      <td>7</td>\n",
       "    </tr>\n",
       "    <tr>\n",
       "      <th>6</th>\n",
       "      <td>Rivers</td>\n",
       "      <td>482</td>\n",
       "      <td>252</td>\n",
       "      <td>208</td>\n",
       "      <td>22</td>\n",
       "    </tr>\n",
       "    <tr>\n",
       "      <th>7</th>\n",
       "      <td>Kaduna</td>\n",
       "      <td>429</td>\n",
       "      <td>170</td>\n",
       "      <td>249</td>\n",
       "      <td>10</td>\n",
       "    </tr>\n",
       "    <tr>\n",
       "      <th>8</th>\n",
       "      <td>Borno</td>\n",
       "      <td>425</td>\n",
       "      <td>126</td>\n",
       "      <td>270</td>\n",
       "      <td>29</td>\n",
       "    </tr>\n",
       "    <tr>\n",
       "      <th>9</th>\n",
       "      <td>Katsina</td>\n",
       "      <td>414</td>\n",
       "      <td>173</td>\n",
       "      <td>219</td>\n",
       "      <td>22</td>\n",
       "    </tr>\n",
       "    <tr>\n",
       "      <th>10</th>\n",
       "      <td>Bauchi</td>\n",
       "      <td>410</td>\n",
       "      <td>155</td>\n",
       "      <td>244</td>\n",
       "      <td>11</td>\n",
       "    </tr>\n",
       "    <tr>\n",
       "      <th>11</th>\n",
       "      <td>Gombe</td>\n",
       "      <td>337</td>\n",
       "      <td>186</td>\n",
       "      <td>139</td>\n",
       "      <td>12</td>\n",
       "    </tr>\n",
       "    <tr>\n",
       "      <th>12</th>\n",
       "      <td>Jigawa</td>\n",
       "      <td>317</td>\n",
       "      <td>133</td>\n",
       "      <td>178</td>\n",
       "      <td>6</td>\n",
       "    </tr>\n",
       "    <tr>\n",
       "      <th>13</th>\n",
       "      <td>Delta</td>\n",
       "      <td>254</td>\n",
       "      <td>179</td>\n",
       "      <td>63</td>\n",
       "      <td>12</td>\n",
       "    </tr>\n",
       "    <tr>\n",
       "      <th>14</th>\n",
       "      <td>Ebonyi</td>\n",
       "      <td>162</td>\n",
       "      <td>78</td>\n",
       "      <td>84</td>\n",
       "      <td>0</td>\n",
       "    </tr>\n",
       "    <tr>\n",
       "      <th>15</th>\n",
       "      <td>Abia</td>\n",
       "      <td>151</td>\n",
       "      <td>133</td>\n",
       "      <td>18</td>\n",
       "      <td>0</td>\n",
       "    </tr>\n",
       "    <tr>\n",
       "      <th>16</th>\n",
       "      <td>Kwara</td>\n",
       "      <td>150</td>\n",
       "      <td>69</td>\n",
       "      <td>80</td>\n",
       "      <td>1</td>\n",
       "    </tr>\n",
       "    <tr>\n",
       "      <th>17</th>\n",
       "      <td>Plateau</td>\n",
       "      <td>148</td>\n",
       "      <td>39</td>\n",
       "      <td>106</td>\n",
       "      <td>3</td>\n",
       "    </tr>\n",
       "    <tr>\n",
       "      <th>18</th>\n",
       "      <td>Nasarawa</td>\n",
       "      <td>141</td>\n",
       "      <td>71</td>\n",
       "      <td>64</td>\n",
       "      <td>6</td>\n",
       "    </tr>\n",
       "    <tr>\n",
       "      <th>19</th>\n",
       "      <td>Imo</td>\n",
       "      <td>135</td>\n",
       "      <td>112</td>\n",
       "      <td>20</td>\n",
       "      <td>3</td>\n",
       "    </tr>\n",
       "    <tr>\n",
       "      <th>20</th>\n",
       "      <td>Sokoto</td>\n",
       "      <td>132</td>\n",
       "      <td>15</td>\n",
       "      <td>103</td>\n",
       "      <td>14</td>\n",
       "    </tr>\n",
       "    <tr>\n",
       "      <th>21</th>\n",
       "      <td>Zamfara</td>\n",
       "      <td>76</td>\n",
       "      <td>0</td>\n",
       "      <td>71</td>\n",
       "      <td>5</td>\n",
       "    </tr>\n",
       "    <tr>\n",
       "      <th>22</th>\n",
       "      <td>Anambra</td>\n",
       "      <td>64</td>\n",
       "      <td>37</td>\n",
       "      <td>18</td>\n",
       "      <td>9</td>\n",
       "    </tr>\n",
       "    <tr>\n",
       "      <th>23</th>\n",
       "      <td>Ondo</td>\n",
       "      <td>63</td>\n",
       "      <td>22</td>\n",
       "      <td>32</td>\n",
       "      <td>9</td>\n",
       "    </tr>\n",
       "    <tr>\n",
       "      <th>24</th>\n",
       "      <td>Yobe</td>\n",
       "      <td>55</td>\n",
       "      <td>12</td>\n",
       "      <td>36</td>\n",
       "      <td>7</td>\n",
       "    </tr>\n",
       "    <tr>\n",
       "      <th>25</th>\n",
       "      <td>Kebbi</td>\n",
       "      <td>54</td>\n",
       "      <td>20</td>\n",
       "      <td>29</td>\n",
       "      <td>5</td>\n",
       "    </tr>\n",
       "    <tr>\n",
       "      <th>26</th>\n",
       "      <td>Enugu</td>\n",
       "      <td>51</td>\n",
       "      <td>32</td>\n",
       "      <td>18</td>\n",
       "      <td>1</td>\n",
       "    </tr>\n",
       "    <tr>\n",
       "      <th>27</th>\n",
       "      <td>Osun</td>\n",
       "      <td>50</td>\n",
       "      <td>5</td>\n",
       "      <td>41</td>\n",
       "      <td>4</td>\n",
       "    </tr>\n",
       "    <tr>\n",
       "      <th>28</th>\n",
       "      <td>Niger</td>\n",
       "      <td>49</td>\n",
       "      <td>20</td>\n",
       "      <td>28</td>\n",
       "      <td>1</td>\n",
       "    </tr>\n",
       "    <tr>\n",
       "      <th>29</th>\n",
       "      <td>Akwa Ibom</td>\n",
       "      <td>48</td>\n",
       "      <td>28</td>\n",
       "      <td>18</td>\n",
       "      <td>2</td>\n",
       "    </tr>\n",
       "    <tr>\n",
       "      <th>30</th>\n",
       "      <td>Adamawa</td>\n",
       "      <td>42</td>\n",
       "      <td>4</td>\n",
       "      <td>34</td>\n",
       "      <td>4</td>\n",
       "    </tr>\n",
       "    <tr>\n",
       "      <th>31</th>\n",
       "      <td>Benue</td>\n",
       "      <td>34</td>\n",
       "      <td>27</td>\n",
       "      <td>7</td>\n",
       "      <td>0</td>\n",
       "    </tr>\n",
       "    <tr>\n",
       "      <th>32</th>\n",
       "      <td>Bayelsa</td>\n",
       "      <td>32</td>\n",
       "      <td>9</td>\n",
       "      <td>20</td>\n",
       "      <td>3</td>\n",
       "    </tr>\n",
       "    <tr>\n",
       "      <th>33</th>\n",
       "      <td>Ekiti</td>\n",
       "      <td>30</td>\n",
       "      <td>10</td>\n",
       "      <td>18</td>\n",
       "      <td>2</td>\n",
       "    </tr>\n",
       "    <tr>\n",
       "      <th>34</th>\n",
       "      <td>Taraba</td>\n",
       "      <td>18</td>\n",
       "      <td>8</td>\n",
       "      <td>10</td>\n",
       "      <td>0</td>\n",
       "    </tr>\n",
       "    <tr>\n",
       "      <th>35</th>\n",
       "      <td>Kogi</td>\n",
       "      <td>3</td>\n",
       "      <td>3</td>\n",
       "      <td>0</td>\n",
       "      <td>0</td>\n",
       "    </tr>\n",
       "  </tbody>\n",
       "</table>\n",
       "</div>"
      ],
      "text/plain": [
       "   States Affected No. of Cases (Lab Confirmed) No. of Cases (on admission)  \\\n",
       "0          Lagos                         7035                        5816     \n",
       "1            FCT                         1212                         826     \n",
       "2           Kano                         1091                         442     \n",
       "3           Ogun                          553                         308     \n",
       "4            Edo                          544                         386     \n",
       "5            Oyo                          491                         268     \n",
       "6         Rivers                          482                         252     \n",
       "7         Kaduna                          429                         170     \n",
       "8          Borno                          425                         126     \n",
       "9        Katsina                          414                         173     \n",
       "10        Bauchi                          410                         155     \n",
       "11         Gombe                          337                         186     \n",
       "12        Jigawa                          317                         133     \n",
       "13         Delta                          254                         179     \n",
       "14        Ebonyi                            162                        78     \n",
       "15          Abia                          151                         133     \n",
       "16         Kwara                          150                          69     \n",
       "17       Plateau                          148                          39     \n",
       "18      Nasarawa                          141                          71     \n",
       "19           Imo                          135                         112     \n",
       "20        Sokoto                            132                        15     \n",
       "21       Zamfara                           76                           0     \n",
       "22       Anambra                           64                          37     \n",
       "23          Ondo                           63                          22     \n",
       "24          Yobe                           55                          12     \n",
       "25         Kebbi                           54                          20     \n",
       "26         Enugu                             51                        32     \n",
       "27          Osun                           50                           5     \n",
       "28         Niger                           49                          20     \n",
       "29     Akwa Ibom                           48                          28     \n",
       "30       Adamawa                           42                           4     \n",
       "31         Benue                           34                          27     \n",
       "32       Bayelsa                           32                           9     \n",
       "33         Ekiti                           30                          10     \n",
       "34        Taraba                           18                           8     \n",
       "35          Kogi                            3                           3     \n",
       "\n",
       "   No. Discharged No. of Deaths  \n",
       "0          1137            82    \n",
       "1           360            26    \n",
       "2           599            50    \n",
       "3           231            14    \n",
       "4           133            25    \n",
       "5           216             7    \n",
       "6           208            22    \n",
       "7           249            10    \n",
       "8           270            29    \n",
       "9           219            22    \n",
       "10          244            11    \n",
       "11          139            12    \n",
       "12          178             6    \n",
       "13           63            12    \n",
       "14           84             0    \n",
       "15           18             0    \n",
       "16           80             1    \n",
       "17          106             3    \n",
       "18           64             6    \n",
       "19           20             3    \n",
       "20          103            14    \n",
       "21           71             5    \n",
       "22           18             9    \n",
       "23           32             9    \n",
       "24           36             7    \n",
       "25           29             5    \n",
       "26           18             1    \n",
       "27           41             4    \n",
       "28           28             1    \n",
       "29           18             2    \n",
       "30           34             4    \n",
       "31            7             0    \n",
       "32           20             3    \n",
       "33           18             2    \n",
       "34           10             0    \n",
       "35            0             0    "
      ]
     },
     "execution_count": 71,
     "metadata": {},
     "output_type": "execute_result"
    }
   ],
   "source": [
    "#view table to confirm data\n",
    "data_table"
   ]
  },
  {
   "cell_type": "code",
   "execution_count": 16,
   "metadata": {
    "ExecuteTime": {
     "end_time": "2020-06-14T00:41:04.561335Z",
     "start_time": "2020-06-14T00:41:04.455472Z"
    }
   },
   "outputs": [],
   "source": [
    "#strip leading and traiing spaces from 'States Affected' columns\n",
    "data_table['States Affected'] = data_table['States Affected'].str.strip()"
   ]
  },
  {
   "cell_type": "code",
   "execution_count": 17,
   "metadata": {
    "ExecuteTime": {
     "end_time": "2020-06-14T00:41:04.673731Z",
     "start_time": "2020-06-14T00:41:04.562320Z"
    }
   },
   "outputs": [
    {
     "name": "stdout",
     "output_type": "stream",
     "text": [
      "Your table was successfully saved!\n"
     ]
    }
   ],
   "source": [
    "#save table\n",
    "data_table.to_csv('NCDC 13-6-2020.csv', index=False)\n",
    "print(\"Your table was successfully saved!\")"
   ]
  },
  {
   "cell_type": "code",
   "execution_count": 18,
   "metadata": {
    "ExecuteTime": {
     "end_time": "2020-06-14T00:41:04.770472Z",
     "start_time": "2020-06-14T00:41:04.677729Z"
    }
   },
   "outputs": [],
   "source": [
    "#create date column\n",
    "data_table['Date'] = '13/6/2020'"
   ]
  },
  {
   "cell_type": "code",
   "execution_count": 19,
   "metadata": {
    "ExecuteTime": {
     "end_time": "2020-06-14T00:41:04.876759Z",
     "start_time": "2020-06-14T00:41:04.772452Z"
    }
   },
   "outputs": [],
   "source": [
    "#drop unneeded column\n",
    "data_table = data_table.drop('No. of Cases (on admission)', axis=1)"
   ]
  },
  {
   "cell_type": "code",
   "execution_count": 20,
   "metadata": {
    "ExecuteTime": {
     "end_time": "2020-06-14T00:41:05.002983Z",
     "start_time": "2020-06-14T00:41:04.877739Z"
    }
   },
   "outputs": [],
   "source": [
    "#Reorder and rename column headers\n",
    "data_table = data_table[[\n",
    "    'Date', 'States Affected', 'No. of Cases (Lab Confirmed)',\n",
    "    'No. Discharged', 'No. of Deaths'\n",
    "]]\n",
    "\n",
    "data_table.columns = [\n",
    "    'Date', 'States Affected', 'Total No of Cases', 'Total No Discharged',\n",
    "    'Total No of Deaths'\n",
    "]"
   ]
  },
  {
   "cell_type": "code",
   "execution_count": 21,
   "metadata": {
    "ExecuteTime": {
     "end_time": "2020-06-14T00:41:05.129529Z",
     "start_time": "2020-06-14T00:41:05.004962Z"
    }
   },
   "outputs": [],
   "source": [
    "#Load total data\n",
    "total_data = pd.read_csv('Nigeria COVID 19 Data.csv')"
   ]
  },
  {
   "cell_type": "code",
   "execution_count": 22,
   "metadata": {
    "ExecuteTime": {
     "end_time": "2020-06-14T00:41:05.220547Z",
     "start_time": "2020-06-14T00:41:05.130533Z"
    }
   },
   "outputs": [],
   "source": [
    "#Update total data with scrapped data\n",
    "total_data = pd.concat([total_data, data_table], axis=0, ignore_index=True)"
   ]
  },
  {
   "cell_type": "code",
   "execution_count": 23,
   "metadata": {
    "ExecuteTime": {
     "end_time": "2020-06-14T00:41:05.339029Z",
     "start_time": "2020-06-14T00:41:05.221525Z"
    }
   },
   "outputs": [
    {
     "data": {
      "text/html": [
       "<div>\n",
       "<style scoped>\n",
       "    .dataframe tbody tr th:only-of-type {\n",
       "        vertical-align: middle;\n",
       "    }\n",
       "\n",
       "    .dataframe tbody tr th {\n",
       "        vertical-align: top;\n",
       "    }\n",
       "\n",
       "    .dataframe thead th {\n",
       "        text-align: right;\n",
       "    }\n",
       "</style>\n",
       "<table border=\"1\" class=\"dataframe\">\n",
       "  <thead>\n",
       "    <tr style=\"text-align: right;\">\n",
       "      <th></th>\n",
       "      <th>Date</th>\n",
       "      <th>States Affected</th>\n",
       "      <th>Total No of Cases</th>\n",
       "      <th>Total No Discharged</th>\n",
       "      <th>Total No of Deaths</th>\n",
       "    </tr>\n",
       "  </thead>\n",
       "  <tbody>\n",
       "    <tr>\n",
       "      <th>0</th>\n",
       "      <td>29/2/2020</td>\n",
       "      <td>Ogun</td>\n",
       "      <td>1</td>\n",
       "      <td>0</td>\n",
       "      <td>0</td>\n",
       "    </tr>\n",
       "    <tr>\n",
       "      <th>1</th>\n",
       "      <td>1/3/2020</td>\n",
       "      <td>Ogun</td>\n",
       "      <td>1</td>\n",
       "      <td>0</td>\n",
       "      <td>0</td>\n",
       "    </tr>\n",
       "    <tr>\n",
       "      <th>2</th>\n",
       "      <td>2/3/2020</td>\n",
       "      <td>Ogun</td>\n",
       "      <td>1</td>\n",
       "      <td>0</td>\n",
       "      <td>0</td>\n",
       "    </tr>\n",
       "    <tr>\n",
       "      <th>3</th>\n",
       "      <td>3/3/2020</td>\n",
       "      <td>Ogun</td>\n",
       "      <td>1</td>\n",
       "      <td>0</td>\n",
       "      <td>0</td>\n",
       "    </tr>\n",
       "    <tr>\n",
       "      <th>4</th>\n",
       "      <td>4/3/2020</td>\n",
       "      <td>Ogun</td>\n",
       "      <td>1</td>\n",
       "      <td>0</td>\n",
       "      <td>0</td>\n",
       "    </tr>\n",
       "    <tr>\n",
       "      <th>...</th>\n",
       "      <td>...</td>\n",
       "      <td>...</td>\n",
       "      <td>...</td>\n",
       "      <td>...</td>\n",
       "      <td>...</td>\n",
       "    </tr>\n",
       "    <tr>\n",
       "      <th>2342</th>\n",
       "      <td>13/6/2020</td>\n",
       "      <td>Benue</td>\n",
       "      <td>34</td>\n",
       "      <td>7</td>\n",
       "      <td>0</td>\n",
       "    </tr>\n",
       "    <tr>\n",
       "      <th>2343</th>\n",
       "      <td>13/6/2020</td>\n",
       "      <td>Bayelsa</td>\n",
       "      <td>32</td>\n",
       "      <td>20</td>\n",
       "      <td>3</td>\n",
       "    </tr>\n",
       "    <tr>\n",
       "      <th>2344</th>\n",
       "      <td>13/6/2020</td>\n",
       "      <td>Ekiti</td>\n",
       "      <td>30</td>\n",
       "      <td>18</td>\n",
       "      <td>2</td>\n",
       "    </tr>\n",
       "    <tr>\n",
       "      <th>2345</th>\n",
       "      <td>13/6/2020</td>\n",
       "      <td>Taraba</td>\n",
       "      <td>18</td>\n",
       "      <td>10</td>\n",
       "      <td>0</td>\n",
       "    </tr>\n",
       "    <tr>\n",
       "      <th>2346</th>\n",
       "      <td>13/6/2020</td>\n",
       "      <td>Kogi</td>\n",
       "      <td>3</td>\n",
       "      <td>0</td>\n",
       "      <td>0</td>\n",
       "    </tr>\n",
       "  </tbody>\n",
       "</table>\n",
       "<p>2347 rows × 5 columns</p>\n",
       "</div>"
      ],
      "text/plain": [
       "           Date States Affected Total No of Cases Total No Discharged  \\\n",
       "0     29/2/2020            Ogun                 1                   0   \n",
       "1      1/3/2020            Ogun                 1                   0   \n",
       "2      2/3/2020            Ogun                 1                   0   \n",
       "3      3/3/2020            Ogun                 1                   0   \n",
       "4      4/3/2020            Ogun                 1                   0   \n",
       "...         ...             ...               ...                 ...   \n",
       "2342  13/6/2020           Benue              34                   7     \n",
       "2343  13/6/2020         Bayelsa              32                  20     \n",
       "2344  13/6/2020           Ekiti              30                  18     \n",
       "2345  13/6/2020          Taraba              18                  10     \n",
       "2346  13/6/2020            Kogi               3                   0     \n",
       "\n",
       "     Total No of Deaths  \n",
       "0                     0  \n",
       "1                     0  \n",
       "2                     0  \n",
       "3                     0  \n",
       "4                     0  \n",
       "...                 ...  \n",
       "2342                0    \n",
       "2343                3    \n",
       "2344                2    \n",
       "2345                0    \n",
       "2346                0    \n",
       "\n",
       "[2347 rows x 5 columns]"
      ]
     },
     "execution_count": 23,
     "metadata": {},
     "output_type": "execute_result"
    }
   ],
   "source": [
    "#view total data table to confirm results\n",
    "total_data"
   ]
  },
  {
   "cell_type": "code",
   "execution_count": 24,
   "metadata": {
    "ExecuteTime": {
     "end_time": "2020-06-14T00:41:05.462054Z",
     "start_time": "2020-06-14T00:41:05.341013Z"
    }
   },
   "outputs": [
    {
     "name": "stdout",
     "output_type": "stream",
     "text": [
      "Your table was successfully saved!\n"
     ]
    }
   ],
   "source": [
    "#save total data\n",
    "total_data.to_csv('Nigeria COVID 19 Data.csv', index=False)\n",
    "print(\"Your table was successfully saved!\")"
   ]
  }
 ],
 "metadata": {
  "kernelspec": {
   "display_name": "Python 3",
   "language": "python",
   "name": "python3"
  },
  "language_info": {
   "codemirror_mode": {
    "name": "ipython",
    "version": 3
   },
   "file_extension": ".py",
   "mimetype": "text/x-python",
   "name": "python",
   "nbconvert_exporter": "python",
   "pygments_lexer": "ipython3",
   "version": "3.7.4"
  },
  "varInspector": {
   "cols": {
    "lenName": 16,
    "lenType": 16,
    "lenVar": 40
   },
   "kernels_config": {
    "python": {
     "delete_cmd_postfix": "",
     "delete_cmd_prefix": "del ",
     "library": "var_list.py",
     "varRefreshCmd": "print(var_dic_list())"
    },
    "r": {
     "delete_cmd_postfix": ") ",
     "delete_cmd_prefix": "rm(",
     "library": "var_list.r",
     "varRefreshCmd": "cat(var_dic_list()) "
    }
   },
   "types_to_exclude": [
    "module",
    "function",
    "builtin_function_or_method",
    "instance",
    "_Feature"
   ],
   "window_display": false
  }
 },
 "nbformat": 4,
 "nbformat_minor": 2
}
