{
 "cells": [
  {
   "cell_type": "code",
   "execution_count": null,
   "metadata": {
    "ExecuteTime": {
     "end_time": "2020-06-14T00:43:25.617784Z",
     "start_time": "2020-06-14T00:43:25.614785Z"
    }
   },
   "outputs": [],
   "source": [
    "import time\n",
    "import requests\n",
    "import bs4\n",
    "import re\n",
    "import pandas as pd"
   ]
  },
  {
   "cell_type": "code",
   "execution_count": null,
   "metadata": {
    "ExecuteTime": {
     "end_time": "2020-06-14T00:43:26.333359Z",
     "start_time": "2020-06-14T00:43:25.619782Z"
    }
   },
   "outputs": [],
   "source": [
    "# NCDC website for web scraping\n",
    "web_page = 'https://covid19.ncdc.gov.ng/'\n",
    "\n",
    "# make request for data from website\n",
    "res = requests.get(web_page)\n",
    "\n",
    "# store the retrieved content\n",
    "html_page = res.content\n",
    "\n",
    "# create a BeautifulSoup object\n",
    "soup = bs4.BeautifulSoup(html_page, \"html.parser\")\n",
    "\n",
    "# store scraped table contents in a variable\n",
    "table = soup.find_all(class_=\"pcoded-content\")"
   ]
  },
  {
   "cell_type": "code",
   "execution_count": null,
   "metadata": {
    "ExecuteTime": {
     "end_time": "2020-06-14T00:43:26.343292Z",
     "start_time": "2020-06-14T00:43:26.335315Z"
    },
    "scrolled": true
   },
   "outputs": [],
   "source": [
    "# store contents from various div classes\n",
    "confirmed_states = soup.find(class_=\"card-title\")\n",
    "\n",
    "table_header = soup.find_all('thead')\n",
    "\n",
    "table_body = soup.find('tbody')"
   ]
  },
  {
   "cell_type": "code",
   "execution_count": null,
   "metadata": {
    "ExecuteTime": {
     "end_time": "2020-06-14T00:43:26.618394Z",
     "start_time": "2020-06-14T00:43:26.345289Z"
    },
    "scrolled": false
   },
   "outputs": [],
   "source": [
    "#clean contents from div classes\n",
    "str_cells = str(table_header)\n",
    "cleantext = bs4.BeautifulSoup(str_cells, \"lxml\").get_text()\n",
    "\n",
    "list_rows = []\n",
    "for tr in table_body:\n",
    "    cells = table_body.find_all('td')\n",
    "    str_cells = str(cells)\n",
    "    clean = re.compile('<.*?>')\n",
    "    clean2 = (re.sub(clean, ' ', str_cells))\n",
    "    list_rows.append(clean2)"
   ]
  },
  {
   "cell_type": "code",
   "execution_count": null,
   "metadata": {
    "ExecuteTime": {
     "end_time": "2020-06-14T00:52:58.290951Z",
     "start_time": "2020-06-14T00:52:58.279975Z"
    }
   },
   "outputs": [],
   "source": [
    "#store cleaned contents in dataframe\n",
    "df = pd.DataFrame(list_rows)"
   ]
  },
  {
   "cell_type": "code",
   "execution_count": null,
   "metadata": {
    "ExecuteTime": {
     "end_time": "2020-06-14T00:43:26.789163Z",
     "start_time": "2020-06-14T00:43:26.625388Z"
    }
   },
   "outputs": [],
   "source": [
    "#isolate desired data row\n",
    "df = df.loc[:0, :]"
   ]
  },
  {
   "cell_type": "code",
   "execution_count": null,
   "metadata": {
    "ExecuteTime": {
     "end_time": "2020-06-14T00:43:26.891525Z",
     "start_time": "2020-06-14T00:43:26.791179Z"
    }
   },
   "outputs": [],
   "source": [
    "#remove html tags\n",
    "df = df.replace(r'\\n', ' ', regex=True)\n",
    "df = df.replace(r'\\t', '', regex=True)\n",
    "df = df.replace(r'\\s\\s\\s', '', regex=True)"
   ]
  },
  {
   "cell_type": "code",
   "execution_count": null,
   "metadata": {
    "ExecuteTime": {
     "end_time": "2020-06-14T00:54:45.656991Z",
     "start_time": "2020-06-14T00:54:45.636005Z"
    }
   },
   "outputs": [],
   "source": [
    "#split the contents into seperate columns and store in new dataframe\n",
    "df1 = df[0].str.split(',', expand=True)"
   ]
  },
  {
   "cell_type": "code",
   "execution_count": null,
   "metadata": {
    "ExecuteTime": {
     "end_time": "2020-06-14T00:58:05.553381Z",
     "start_time": "2020-06-14T00:58:05.536389Z"
    }
   },
   "outputs": [],
   "source": [
    "df1"
   ]
  },
  {
   "cell_type": "code",
   "execution_count": null,
   "metadata": {
    "ExecuteTime": {
     "end_time": "2020-06-14T00:58:02.406558Z",
     "start_time": "2020-06-14T00:58:02.401561Z"
    },
    "scrolled": true
   },
   "outputs": [],
   "source": [
    "#strip leading and trailing square brackets\n",
    "df1.loc[0, 0] = df1.loc[0, 0].strip('[')\n",
    "df1.loc[0, 184] = df1.loc[0, 184].strip(']')"
   ]
  },
  {
   "cell_type": "code",
   "execution_count": null,
   "metadata": {
    "ExecuteTime": {
     "end_time": "2020-06-14T00:58:49.974286Z",
     "start_time": "2020-06-14T00:58:49.968289Z"
    }
   },
   "outputs": [],
   "source": [
    "#split contents into seperate dataframes\n",
    "df2 = df1[[0, 1, 2, 3, 4, 5, 6, 7]]\n",
    "df3 = df1[[8, 9, 10, 11, 12, 13]]\n",
    "df4 = df1[[14, 15, 16, 17, 18, 19]]"
   ]
  },
  {
   "cell_type": "code",
   "execution_count": null,
   "metadata": {
    "ExecuteTime": {
     "end_time": "2020-06-14T00:58:51.611314Z",
     "start_time": "2020-06-14T00:58:51.598323Z"
    },
    "scrolled": true
   },
   "outputs": [],
   "source": [
    "#merge multiline columns data\n",
    "df2.loc[:, 1] = df2.loc[:, 1].astype(str) + df2.loc[:, 2].astype(str)\n",
    "df2.loc[:, 3] = df2.loc[:, 3].astype(str) + df2.loc[:, 4].astype(str)\n",
    "df2.loc[:, 5] = df2.loc[:, 5].astype(str) + df2.loc[:, 6].astype(str)\n",
    "df3.loc[:, 9] = df3.loc[:, 9].astype(str) + df3.loc[:, 10].astype(str)\n",
    "df4.loc[:, 15] = df4.loc[:, 15].astype(str) + df4.loc[:, 16].astype(str)"
   ]
  },
  {
   "cell_type": "code",
   "execution_count": null,
   "metadata": {
    "ExecuteTime": {
     "end_time": "2020-06-14T00:58:55.125423Z",
     "start_time": "2020-06-14T00:58:55.118408Z"
    }
   },
   "outputs": [],
   "source": [
    "#drop duplicate columns after merger\n",
    "df2 = df2.drop(columns=2, axis=1)\n",
    "df2 = df2.drop(columns=4, axis=1)\n",
    "df2 = df2.drop(columns=6, axis=1)\n",
    "\n",
    "df3 = df3.drop(columns=10, axis=1)\n",
    "\n",
    "df4 = df4.drop(columns=16, axis=1)"
   ]
  },
  {
   "cell_type": "code",
   "execution_count": null,
   "metadata": {
    "ExecuteTime": {
     "end_time": "2020-06-14T00:58:58.013461Z",
     "start_time": "2020-06-14T00:58:57.977480Z"
    }
   },
   "outputs": [],
   "source": [
    "#reset column headers for concatenation\n",
    "df3.columns = df2.columns\n",
    "df4.columns = df2.columns\n",
    "\n",
    "#merger dataframes as rows\n",
    "data_table = pd.concat([df2, df3, df4], axis=0, ignore_index=True)\n",
    "\n",
    "#split and remerge data as new rows\n",
    "for i in range(20, 184, 5):\n",
    "    table = df1[[i, 1 + i, 2 + i, 3 + i, 4 + i]]\n",
    "    table.columns = df2.columns\n",
    "    data_table = pd.concat([data_table, table], axis=0, ignore_index=True)"
   ]
  },
  {
   "cell_type": "code",
   "execution_count": null,
   "metadata": {
    "ExecuteTime": {
     "end_time": "2020-06-14T00:58:59.843892Z",
     "start_time": "2020-06-14T00:58:59.840879Z"
    }
   },
   "outputs": [],
   "source": [
    "#rename column headers\n",
    "data_table.columns = [\n",
    "    'States Affected', 'No. of Cases (Lab Confirmed)',\n",
    "    'No. of Cases (on admission)', 'No. Discharged', 'No. of Deaths'\n",
    "]"
   ]
  },
  {
   "cell_type": "code",
   "execution_count": null,
   "metadata": {
    "ExecuteTime": {
     "end_time": "2020-06-14T00:59:01.560615Z",
     "start_time": "2020-06-14T00:59:01.544641Z"
    },
    "scrolled": true
   },
   "outputs": [],
   "source": [
    "#view table to confirm data\n",
    "data_table"
   ]
  },
  {
   "cell_type": "code",
   "execution_count": null,
   "metadata": {
    "ExecuteTime": {
     "end_time": "2020-06-14T00:41:04.561335Z",
     "start_time": "2020-06-14T00:41:04.455472Z"
    }
   },
   "outputs": [],
   "source": [
    "#strip leading and traiing spaces from 'States Affected' columns\n",
    "data_table['States Affected'] = data_table['States Affected'].str.strip()"
   ]
  },
  {
   "cell_type": "code",
   "execution_count": null,
   "metadata": {
    "ExecuteTime": {
     "end_time": "2020-06-14T00:41:04.673731Z",
     "start_time": "2020-06-14T00:41:04.562320Z"
    }
   },
   "outputs": [],
   "source": [
    "#save table\n",
    "data_table.to_csv('NCDC 13-6-2020.csv', index=False)\n",
    "print(\"Your table was successfully saved!\")"
   ]
  },
  {
   "cell_type": "code",
   "execution_count": null,
   "metadata": {
    "ExecuteTime": {
     "end_time": "2020-06-14T00:41:04.770472Z",
     "start_time": "2020-06-14T00:41:04.677729Z"
    }
   },
   "outputs": [],
   "source": [
    "#create date column\n",
    "data_table['Date'] = '13/6/2020'"
   ]
  },
  {
   "cell_type": "code",
   "execution_count": null,
   "metadata": {
    "ExecuteTime": {
     "end_time": "2020-06-14T00:41:04.876759Z",
     "start_time": "2020-06-14T00:41:04.772452Z"
    }
   },
   "outputs": [],
   "source": [
    "#drop unneeded column\n",
    "data_table = data_table.drop('No. of Cases (on admission)', axis=1)"
   ]
  },
  {
   "cell_type": "code",
   "execution_count": null,
   "metadata": {
    "ExecuteTime": {
     "end_time": "2020-06-14T00:41:05.002983Z",
     "start_time": "2020-06-14T00:41:04.877739Z"
    }
   },
   "outputs": [],
   "source": [
    "#Reorder and rename column headers\n",
    "data_table = data_table[[\n",
    "    'Date', 'States Affected', 'No. of Cases (Lab Confirmed)',\n",
    "    'No. Discharged', 'No. of Deaths'\n",
    "]]\n",
    "\n",
    "data_table.columns = [\n",
    "    'Date', 'States Affected', 'Total No of Cases', 'Total No Discharged',\n",
    "    'Total No of Deaths'\n",
    "]"
   ]
  },
  {
   "cell_type": "code",
   "execution_count": null,
   "metadata": {
    "ExecuteTime": {
     "end_time": "2020-06-14T00:41:05.129529Z",
     "start_time": "2020-06-14T00:41:05.004962Z"
    }
   },
   "outputs": [],
   "source": [
    "#Load total data\n",
    "total_data = pd.read_csv('Nigeria COVID 19 Data.csv')"
   ]
  },
  {
   "cell_type": "code",
   "execution_count": null,
   "metadata": {
    "ExecuteTime": {
     "end_time": "2020-06-14T00:41:05.220547Z",
     "start_time": "2020-06-14T00:41:05.130533Z"
    }
   },
   "outputs": [],
   "source": [
    "#Update total data with scrapped data\n",
    "total_data = pd.concat([total_data, data_table], axis=0, ignore_index=True)"
   ]
  },
  {
   "cell_type": "code",
   "execution_count": null,
   "metadata": {
    "ExecuteTime": {
     "end_time": "2020-06-14T00:41:05.339029Z",
     "start_time": "2020-06-14T00:41:05.221525Z"
    }
   },
   "outputs": [],
   "source": [
    "#view total data table to confirm results\n",
    "total_data"
   ]
  },
  {
   "cell_type": "code",
   "execution_count": null,
   "metadata": {
    "ExecuteTime": {
     "end_time": "2020-06-14T00:41:05.462054Z",
     "start_time": "2020-06-14T00:41:05.341013Z"
    }
   },
   "outputs": [],
   "source": [
    "#save total data\n",
    "total_data.to_csv('Nigeria COVID 19 Data.csv', index=False)\n",
    "print(\"Your table was successfully saved!\")"
   ]
  }
 ],
 "metadata": {
  "kernelspec": {
   "display_name": "Python 3",
   "language": "python",
   "name": "python3"
  },
  "language_info": {
   "codemirror_mode": {
    "name": "ipython",
    "version": 3
   },
   "file_extension": ".py",
   "mimetype": "text/x-python",
   "name": "python",
   "nbconvert_exporter": "python",
   "pygments_lexer": "ipython3",
   "version": "3.7.4"
  },
  "varInspector": {
   "cols": {
    "lenName": 16,
    "lenType": 16,
    "lenVar": 40
   },
   "kernels_config": {
    "python": {
     "delete_cmd_postfix": "",
     "delete_cmd_prefix": "del ",
     "library": "var_list.py",
     "varRefreshCmd": "print(var_dic_list())"
    },
    "r": {
     "delete_cmd_postfix": ") ",
     "delete_cmd_prefix": "rm(",
     "library": "var_list.r",
     "varRefreshCmd": "cat(var_dic_list()) "
    }
   },
   "types_to_exclude": [
    "module",
    "function",
    "builtin_function_or_method",
    "instance",
    "_Feature"
   ],
   "window_display": false
  }
 },
 "nbformat": 4,
 "nbformat_minor": 2
}
